{
 "cells": [
  {
   "cell_type": "code",
   "execution_count": 1,
   "metadata": {
    "collapsed": true
   },
   "outputs": [],
   "source": [
    "import numpy as np\n",
    "import matplotlib.pyplot as plt\n",
    "get_ipython().magic(u'matplotlib inline')\n",
    "from scipy.stats import pearsonr, chi2, kstest\n",
    "import scipy.ndimage as ndimage\n",
    "from astropy.io import fits"
   ]
  },
  {
   "cell_type": "code",
   "execution_count": 40,
   "metadata": {
    "collapsed": true
   },
   "outputs": [],
   "source": [
    "class MyData:\n",
    "    def __init__(self):\n",
    "        self.x = 0\n",
    "        self.nx = 0\n",
    "        self.y = 0\n",
    "        self.ny = 0\n",
    "        self.z = 0\n",
    "        self.nz = 0\n",
    "        self.filename = 'NoFile'\n",
    "        self.nc=0\n",
    "        self.array=0\n",
    "        \n",
    "    def GetData(self, fileName):\n",
    "        self.filename = fileName\n",
    "        data = np.loadtxt(fileName)\n",
    "        try:\n",
    "            self.x,self.y,self.z=data.transpose()\n",
    "            #print \"3 columns\"\n",
    "            self.nc=3\n",
    "        except ValueError:\n",
    "            try:\n",
    "                self.x,self.y=data.transpose()\n",
    "                #print \"2 columns\"\n",
    "                self.nc=2\n",
    "            except ValueError:\n",
    "                self.x = data.transpose()\n",
    "                #print \"1 columns\"\n",
    "                self.nc=1\n",
    "                \n",
    "    def GetFits(self, filename):\n",
    "        self.filename=filename\n",
    "        self.array=fits.getdata(filename)   \n",
    "        self.nxa=len(self.array)\n",
    "        self.nya=len(self.array)\n",
    "        self.header=fits.getheader(filename)\n",
    "        self.ndim=2\n",
    "        \n",
    "    def ShowImage(self,Cliptop=0,cmap='gray'):\n",
    "        plt.imshow(self.array,vmin=np.percentile(self.array,Cliptop*100),vmax=(np.percentile(self.array,100-Cliptop*100)),cmap=cmap)        \n",
    "                \n",
    "    def PlotPointsXY(self):\n",
    "        plt.scatter(self.x, self.y)\n",
    "        \n",
    "    def SimData(self, model):\n",
    "        self.x = model.x\n",
    "        self.y = model.z\n",
    "        self.z = np.random.poisson(self.y)\n",
    "    \n",
    "                \n",
    "    def PlotPoints(self):\n",
    "        plt.plot(self.x *1e9, self.y)\n",
    "        plt.plot(self.x *1e9, self.z)\n",
    "        plt.xlabel('wavelength(nm)')\n",
    "        plt.ylabel('photons in 1e-5 sec')\n",
    "        \n",
    "    def LoadPoints(self):\n",
    "        arr = np.zeros([128,128])\n",
    "        for i in range(len(self.x)):\n",
    "            arr[self.x[i], self.y[i]] = arr[self.x[i], self.y[i]]+1.0\n",
    "        self.array = arr\n",
    "        \n",
    "class Model:\n",
    "    \n",
    "    def _init_(self):\n",
    "        self.npt = 0\n",
    "        self.x = 0\n",
    "        self.y = 0\n",
    "        self.type = 'undefined'\n",
    "        self.sigma = []\n",
    "        self.array = [0]\n",
    "        \n",
    "    def Xarray(self, npt, xmin = 0, xmax = 1):\n",
    "        self.npt = npt\n",
    "        self.x = np.linspace(xmin, xmax, npt)\n",
    "        \n",
    "    def Gaussian(self, xbar = 0, sigma = 1, ytotal=1):\n",
    "        self.type = \"Gaussian\"\n",
    "        self.xbar = xbar\n",
    "        self.sigma = sigma\n",
    "        self.ytotal = ytotal\n",
    "        self.y = self.ytotal * np.exp(-(self.x - xbar)**2 / (2*sigma**2))/ (sigma *np.sqrt(2*ma.pi))\n",
    "        \n",
    "#    def Blackbody(self, temp=5000):\n",
    "    def Blackbody(self, temp=5000, I=1):\n",
    "        self.type = \"Blackbody\"\n",
    "        self.temp = temp\n",
    "        h = 6.626e-34 #m^2*kg/s\n",
    "        c = 2.99792e8 #m/s\n",
    "        k = 1.38e-23 #m^2*kg/s^2*K\n",
    "        x = self.x * 10**-9\n",
    "        a = 2.0*h*c**2\n",
    "        b = h*c/(x*k*temp)\n",
    "        intensity = ((a/(x**5))*(1/(np.exp(b)-1.0)))*I\n",
    "        self.y = intensity\n",
    "        self.sigma=np.sqrt(self.y)\n",
    "    def printBlackbody(self):\n",
    "        #plt.plot(self.x*1e9, self.y)\n",
    "        plt.plot(self.x, self.y)\n",
    "        plt.title('Blackbody')\n",
    "        plt.xlabel('Wavelength (nm)')\n",
    "        plt.ylabel('Intensity')\n",
    "        plt.show()\n",
    "    def Planck(self, temp=5000):\n",
    "        self.type = \"Blackbody\"\n",
    "        self.temp = temp\n",
    "        h = 6.626e-34 #m^2*kg/s\n",
    "        c =  2.99792e8 #m/s\n",
    "        k = 1.38e-23 #m^2*kg/s^2*K\n",
    "        a = 2.0*h*c**2\n",
    "        b = h*c/(self.x*k*temp)\n",
    "        intensity = a/((self.x**5) * (np.exp(b) - 1.0 ))\n",
    "        self.y = intensity\n",
    "        \n",
    "    def Best(self, Tl, Tu, Il, Iu):\n",
    "        T = np.linspace(Tl, Tu, 101)\n",
    "        I = np.linspace(Il, Iu, 101)\n",
    "        S = np.ones([101,101])*1e10\n",
    "        Smin = 1e10\n",
    "        i1 = 0\n",
    "        j1 = 0\n",
    "        for i in range(101):\n",
    "            for j in range(101):\n",
    "                self.Blackbody(T[j], I[i])\n",
    "                st = MyStats(D,m)\n",
    "                S[i,j] = st.Sstat()\n",
    "                if S[i,j]<Smin:\n",
    "                    Smin = S[i,j]\n",
    "                    i1 = i\n",
    "                    j1 = j\n",
    "        return T[i1], I[j1], Smin, T, I, S\n",
    "    \n",
    "    def BestTI(self, tl, tu, il, iu):\n",
    "        Tbest,Ibest,Sbest, T, I, S = m.Best(tl, tu, il, iu)\n",
    "        print 'T =', Tbest,'I =', Ibest,'S =',Sbest\n",
    "        cont1 = chi2.isf(.999, 8)\n",
    "        cont2 = chi2.isf(.95, 8)\n",
    "        cont3 = chi2.isf(.68, 8)\n",
    "        print ' 68%, 95% and 99.9% confidence levels are' ,Sbest+cont3,Sbest+cont2,Sbest+cont1\n",
    "        cont = np.array([Sbest+cont1, Sbest+cont2, Sbest+cont3])\n",
    "        fig, ax = plt.subplots()\n",
    "        plt.imshow(S, extent=[tl,tu,il,iu], aspect='auto')\n",
    "        plt.colorbar()\n",
    "        CS = ax.contour(T, I, S, cont, colors=['r', 'y', 'w'])\n",
    "        ax.clabel(CS)\n",
    "        plt.xlabel('T')\n",
    "        plt.ylabel('I')\n",
    "        plt.show()\n",
    "        return Tbest,Ibest,Sbest, T, I, S\n",
    "    \n",
    "    def blackbody_e(self, star, instrument, time):\n",
    "        self.x = np.array(instrument.lam) * 1e-9\n",
    "        self.Planck(star.temp)\n",
    "        self.y = self.y * (self.x[1]-self.x[0])\n",
    "        return np.sum(self.y) * 4*np.pi**2 * star.rad**2 * ( (1/(star.dist*9.46e15))**2/(4 * np.pi)) * time \n",
    "\n",
    "    def blackbody_ph(self, star, instrument, time):\n",
    "        self.x = np.array(instrument.lam) * 1e-9\n",
    "        self.Planck(star.temp)\n",
    "        self.y = self.y * (self.x[1]-self.x[0])\n",
    "        self.z = self.y\n",
    "        h = 6.626e-34 #m^2*kg/s\n",
    "        c =  2.99792e8 #m/s\n",
    "        for i in range(len(self.z)):\n",
    "        #self.z is the list of number of photons\n",
    "            self.z[i] = self.y[i]/(h*c/self.x[i]) * 4*np.pi**2 * star.rad**2 * ( (1/(star.dist*9.46e15))**2/(4 * np.pi)) * time\n",
    "        #return np.sum(self.z) * 4*np.pi**2 * star.rad**2 * ( (1/(star.dist*9.46e15))**2/(4 * np.pi)) * time\n",
    "        return np.sum(self.z)\n",
    "    def Linear(self,A,B):\n",
    "        self.type = \"Linear\"\n",
    "        self.y=A+B*self.x\n",
    "        self.sigma=np.sqrt(self.y)\n",
    "        \n",
    "class MyStats: \n",
    "    \n",
    "    def __init__(self, data):\n",
    "        self.data = data\n",
    "        #self.model = model\n",
    "        self.LinearReg = []\n",
    "        \n",
    "    def info(self):\n",
    "        if self.data.nc>=1:\n",
    "            print \"X: the number of data points is\", len(self.data.x), \",mean is\", np.mean(self.data.x), \",median is\", np.median(self.data.x), \",and the standard deviation is\", np.std(self.data.x) \n",
    "        if self.data.nc>=2:\n",
    "            print \"Y: the number of data points is\", len(self.data.y), \",mean is\", np.mean(self.data.y), \",median is\", np.median(self.data.y), \",and the standard deviation is\", np.std(self.data.y)\n",
    "        if self.data.nc>=3:\n",
    "            print \"Z: the number of data points is\", len(self.data.z), \",mean is\", np.mean(self.data.z), \",median is\", np.median(self.data.z), \",and the standard deviation is\", np.std(self.data.z)\n",
    "    \n",
    "    def LinearRegression(self):\n",
    "        def LR(a,b):\n",
    "            N = len(a)\n",
    "            sum_a = np.sum(a)\n",
    "            sum_a2= np.sum(a*a)\n",
    "            sum_b = np.sum(b)\n",
    "            sum_b2= np.sum(b*b)\n",
    "            sum_ab= np.sum(a*b)\n",
    "            sigma_a2 = 0\n",
    "            sigma_b2 = 0\n",
    "            sigma_ab = 0\n",
    "\n",
    "            for i in range(N):\n",
    "#                sum_a2 = sum_a2+a[i]**2\n",
    "#                sum_b2 = sum_b2+b[i]**2\n",
    "#                sum_ab = sum_ab+a[i]*b[i]            \n",
    "                sigma_a2 = sigma_a2+(np.mean(a)-a[i])**2\n",
    "                sigma_b2 = sigma_b2+(np.mean(b)-b[i])**2\n",
    "                sigma_ab = sigma_ab+(np.mean(a)-a[i])*(np.mean(b)-b[i])\n",
    "            \n",
    "            d = N*sum_a2-sum_a**2\n",
    "            A = (sum_a2*sum_b-sum_a*sum_ab)/d\n",
    "            B = (N*sum_ab-sum_a*sum_b)/d\n",
    "            r = sigma_ab/(sigma_a2**0.5*sigma_b2**0.5)\n",
    "            plt.plot(a,B*a+A,c='r')\n",
    "            plt.scatter(a,b,c='g')\n",
    "            \n",
    "            p = pearsonr(a, b)\n",
    "            \n",
    "            self.LR = [A,B,r,N,p[1]]\n",
    "            return [A,B,r,N,p[1]]\n",
    "        x = self.data.x\n",
    "        y = self.data.y\n",
    "        z = self.data.z\n",
    "        if self.data.nc==2:\n",
    "            self.lr = LR(x,y)\n",
    "            return LR(x,y)\n",
    "        elif self.data.nc==3:\n",
    "            self.lr = np.array([LR(x,y),LR(x,z),LR(y,z)])\n",
    "            return LR(x,y),LR(x,z),LR(y,z)   \n",
    "        \n",
    "    def Sstat(self):\n",
    "        chi = (self.model.y - self.data.y)/(self.model.sigma)\n",
    "        chisq = chi**2\n",
    "        S = np.sum(chisq)\n",
    "        return S\n",
    "    def Svalue(self, S, var):\n",
    "        p = chi2.cdf(S, var)\n",
    "        return p\n",
    "    \n",
    "    #def Cstat(self, mu, arr=self.array):\n",
    "        \n",
    "\n",
    "class Source:\n",
    "    def __init__(self, name, typ, temp, rad, dist):\n",
    "        self.name = name\n",
    "        self.typ = typ\n",
    "        self.temp = temp\n",
    "        self.rad = rad\n",
    "        self.dist = dist\n",
    "\n",
    "    def info(self):\n",
    "        print \"The type of\",self.name,'is',self.typ,'. The temperature of',self.name,'is',self.temp,'K. The radius of',self.name,'is',self.rad,'m. The distance of',self.name,'is',self.dist,'ly.'\n",
    "\n",
    "class Sources:\n",
    "    def __init__(self):\n",
    "        self.Sourcelist = []\n",
    "        self.source_dict = {}\n",
    "        self.load_sources()\n",
    "        self.load_dictionary()\n",
    "    \n",
    "    def load_sources(self):\n",
    "        self.Sourcelist=[Source('Proxima Centauri','M6Ve',3042,107300000 ,4.244),Source('Alpha Centauri A','G2V', 5790, 851119000, 4.73),Source('Epsilon Eridani', 'K2V', 5084, 512000000, 10.48),Source('Tau Ceit', 'G8V', 5344, 552000000, 11.91)]\n",
    "    \n",
    "    def load_dictionary(self):\n",
    "        for each in self.Sourcelist:\n",
    "            self.source_dict[each.name] = each\n",
    "    \n",
    "    def add_sources(self,A):\n",
    "        self.Sourcelist.append(A)\n",
    "        self.source_dict[A.name] = A\n",
    "        \n",
    "class Instrument:\n",
    "    def __init__(self,name='Unnamed', nlam = 100, lam_min = 100., lam_max = 1000., area = 1.):\n",
    "        self.name = name\n",
    "        self.nlam = nlam\n",
    "        self.lam_min = lam_min\n",
    "        self.lam_max = lam_max\n",
    "        self.lam = np.linspace(lam_min, lam_max, nlam )\n",
    "        self.areatemp = area\n",
    "        self.area = self.lam * 0. + area \n",
    "        \n",
    "    def info(self):\n",
    "        print self.name, ': nlam =', self.nlam , ', lam_min =', self.lam_min , ', lam_max =', self.lam_max , ', area =', self.area[0]\n",
    "\n",
    "class Instruments:\n",
    "    def __init__(self):\n",
    "        self.instrumentlist = []\n",
    "        self.instrument_dict = {}\n",
    "        self.load_instruments()\n",
    "        self.load_dictionary()\n",
    "    \n",
    "    def load_instruments(self):    \n",
    "        self.instrumentlist=[Instrument(name='Generic', nlam = 100, lam_min = 100.,lam_max = 2000., area = 1.)]\n",
    "    \n",
    "    def load_dictionary(self):\n",
    "        for each in self.instrumentlist:\n",
    "            self.instrument_dict[each.name] = each\n",
    "            \n",
    "    def add_instruments(self,A):\n",
    "        self.instrumentlist.append(A)\n",
    "        self.instrument_dict[A.name] = A"
   ]
  },
  {
   "cell_type": "code",
   "execution_count": 3,
   "metadata": {},
   "outputs": [
    {
     "data": {
      "image/png": "[encoded data removed]",
      "text/plain": [
       "<matplotlib.figure.Figure at 0x867ced0>"
      ]
     },
     "metadata": {},
     "output_type": "display_data"
    }
   ],
   "source": [
    "D = MyData()\n",
    "D.GetData('final_c.txt')\n",
    "D.PlotPointsXY() # Obviously, there are at least one planet in this system"
   ]
  },
  {
   "cell_type": "code",
   "execution_count": 18,
   "metadata": {},
   "outputs": [
    {
     "name": "stdout",
     "output_type": "stream",
     "text": [
      "(array([8250, 8263]),)\n",
      "(array([8259]),)\n",
      "(array([8264]),)\n",
      "(array([8266]),)\n",
      "(array([8255]),)\n",
      "(array([8253]),)\n",
      "(array([8258]),)\n",
      "(array([8265]),)\n",
      "(array([8254]),)\n",
      "(array([8266]),)\n"
     ]
    }
   ],
   "source": [
    "x1 = D.x[:9999]\n",
    "y1 = D.y[:9999]\n",
    "\n",
    "x2 = D.x[10000:19999]\n",
    "y2 = D.y[10000:19999]\n",
    " \n",
    "x3 = D.x[20000:29999]\n",
    "y3 = D.y[20000:29999]\n",
    "\n",
    "x4 = D.x[30000:39999]\n",
    "y4 = D.y[30000:39999]\n",
    "\n",
    "x5 = D.x[40000:49999]\n",
    "y5 = D.y[40000:49999]\n",
    "\n",
    "x6 = D.x[50000:59999]\n",
    "y6 = D.y[50000:59999]\n",
    "\n",
    "x7 = D.x[60000:69999]\n",
    "y7 = D.y[60000:69999]\n",
    "\n",
    "x8 = D.x[70000:79999]\n",
    "y8 = D.y[70000:79999]\n",
    "\n",
    "x9 = D.x[80000:89999]\n",
    "y9 = D.y[80000:89999]\n",
    "\n",
    "x10 = D.x[90000:99999]\n",
    "y10 = D.y[90000:99999]\n",
    "\n",
    "print np.where(np.min(y1)==y1)\n",
    "print np.where(np.min(y2)==y2)\n",
    "print np.where(np.min(y3)==y3)\n",
    "print np.where(np.min(y4)==y4)\n",
    "print np.where(np.min(y5)==y5)\n",
    "print np.where(np.min(y6)==y6)\n",
    "print np.where(np.min(y7)==y7)\n",
    "print np.where(np.min(y8)==y8)\n",
    "print np.where(np.min(y9)==y9)\n",
    "print np.where(np.min(y10)==y10)"
   ]
  },
  {
   "cell_type": "code",
   "execution_count": 20,
   "metadata": {},
   "outputs": [],
   "source": [
    "Max = [(8250+8263)/2, 8259, 8264, 8266, 8255, 8253, 8258, 8265, 8254, 8266]"
   ]
  },
  {
   "cell_type": "code",
   "execution_count": 44,
   "metadata": {},
   "outputs": [
    {
     "name": "stdout",
     "output_type": "stream",
     "text": [
      "8258 0 0.12021416366\n"
     ]
    },
    {
     "data": {
      "image/png": "[encoded data removed]",
      "text/plain": [
       "<matplotlib.figure.Figure at 0x9951ff0>"
      ]
     },
     "metadata": {},
     "output_type": "display_data"
    }
   ],
   "source": [
    "d = MyData()\n",
    "d.x = np.array([1,2,3,4,5,6,7,8,9,10])\n",
    "d.y = np.array(Max)\n",
    "d.nc = 2\n",
    "Stats = MyStats(d)\n",
    "#Stats.info()\n",
    "lr=Stats.LinearRegression()\n",
    "print lr[0], lr[1], lr[2] # the linearrelationship shows that the peorid is 10000*3140s, when t = n*10000*3140s + 8258, the planet transit. "
   ]
  },
  {
   "cell_type": "code",
   "execution_count": 56,
   "metadata": {},
   "outputs": [
    {
     "data": {
      "text/plain": [
       "<matplotlib.collections.PathCollection at 0xb57f110>"
      ]
     },
     "execution_count": 56,
     "metadata": {},
     "output_type": "execute_result"
    },
    {
     "data": {
      "image/png": "[encoded data removed]",
      "text/plain": [
       "<matplotlib.figure.Figure at 0xbb08950>"
      ]
     },
     "metadata": {},
     "output_type": "display_data"
    }
   ],
   "source": [
    "x11 = D.x[8258-15 : 8258+15]\n",
    "y11 = D.y[8258-15 : 8258+15]\n",
    "\n",
    "x21 = D.x[18258-15 : 18258+15]\n",
    "y21 = D.y[18258-15 : 18258+15]\n",
    "\n",
    "x31 = D.x[28258-15 : 28258+15]\n",
    "y31 = D.y[28258-15 : 28258+15]\n",
    "\n",
    "x41 = D.x[38258-15 : 38258+15]\n",
    "y41 = D.y[38258-15 : 38258+15]\n",
    "\n",
    "x51 = D.x[48258-15 : 48258+15]\n",
    "y51 = D.y[48258-15 : 48258+15]\n",
    "\n",
    "x61 = D.x[58258-15 : 58258+15]\n",
    "y61 = D.y[58258-15 : 58258+15]\n",
    "\n",
    "x71 = D.x[68258-15 : 68258+15]\n",
    "y71 = D.y[68258-15 : 68258+15]\n",
    "\n",
    "x81 = D.x[78258-15 : 78258+15]\n",
    "y81 = D.y[78258-15 : 78258+15]\n",
    "\n",
    "x91 = D.x[88258-15 : 88258+15]\n",
    "y91 = D.y[88258-15 : 88258+15]\n",
    "\n",
    "x101 = D.x[98258-15 : 98258+15]\n",
    "y101 = D.y[98258-15 : 98258+15]\n",
    "\n",
    "y2 = (y11+y21+y31+y41+y51+y61+y71+y81+y91+y101)/10\n",
    "plt.scatter(x11 ,y2) # combine the data to improve the signal to noise ratio. The middle point is not 8258, but 8261 "
   ]
  },
  {
   "cell_type": "code",
   "execution_count": 72,
   "metadata": {},
   "outputs": [
    {
     "name": "stdout",
     "output_type": "stream",
     "text": [
      "10000.0 9899.8 100.2\n"
     ]
    },
    {
     "data": {
      "image/png": "[encoded data removed]",
      "text/plain": [
       "<matplotlib.figure.Figure at 0xa1d8f70>"
      ]
     },
     "metadata": {},
     "output_type": "display_data"
    }
   ],
   "source": [
    "plt.plot(x11[7:25],y2[7:25])\n",
    "plt.scatter(x11[7:25],y11[7:25])\n",
    "plt.scatter(x11[7:25],y21[7:25])\n",
    "plt.scatter(x11[7:25],y31[7:25])\n",
    "plt.scatter(x11[7:25],y41[7:25])\n",
    "plt.scatter(x11[7:25],y51[7:25])\n",
    "plt.scatter(x11[7:25],y61[7:25])\n",
    "plt.scatter(x11[7:25],y71[7:25])\n",
    "plt.scatter(x11[7:25],y81[7:25])\n",
    "plt.scatter(x11[7:25],y91[7:25])\n",
    "plt.scatter(x11[7:25],y101[7:25])\n",
    "median1 = np.median(D.y)         \n",
    "median2 = np.median(y2[7:25])\n",
    "median12 = median1-median2\n",
    "print median1, median2, median12 "
   ]
  },
  {
   "cell_type": "code",
   "execution_count": 74,
   "metadata": {},
   "outputs": [
    {
     "name": "stdout",
     "output_type": "stream",
     "text": [
      "0.10009995005\n"
     ]
    }
   ],
   "source": [
    "r = np.sqrt(median12 / median1)\n",
    "print r"
   ]
  },
  {
   "cell_type": "code",
   "execution_count": 107,
   "metadata": {
    "collapsed": true
   },
   "outputs": [],
   "source": [
    "# try to increase the signal to noise ratio\n",
    "def bin(arr, k):\n",
    "    n = (len(arr)/k)/1\n",
    "    new = []\n",
    "    for i in range(n-1):\n",
    "        new.append(np.mean(arr[i*k:(i+1)*k]))\n",
    "    new.append(np.mean(arr[(n-1)*k:]))\n",
    "    return new"
   ]
  },
  {
   "cell_type": "code",
   "execution_count": 130,
   "metadata": {},
   "outputs": [
    {
     "name": "stdout",
     "output_type": "stream",
     "text": [
      "(array([ 165,  365,  565,  606,  607,  765,  965, 1165, 1365, 1565, 1635,\n",
      "       1636, 1765, 1965]),)\n",
      "30300 81750\n"
     ]
    },
    {
     "data": {
      "image/png": "[encoded data removed]",
      "text/plain": [
       "<matplotlib.figure.Figure at 0x10ab0b70>"
      ]
     },
     "metadata": {},
     "output_type": "display_data"
    }
   ],
   "source": [
    "#Another planet\n",
    "new = bin(D.y, 50)\n",
    "plt.plot(np.linspace(0,99999,len(new)), new)\n",
    "a = np.where(np.array(new)<9990)\n",
    "print a\n",
    "print 606*100000/len(new), 1635*100000/len(new) # the estimate time for the second planet"
   ]
  },
  {
   "cell_type": "code",
   "execution_count": 132,
   "metadata": {},
   "outputs": [
    {
     "name": "stdout",
     "output_type": "stream",
     "text": [
      "161553000\n"
     ]
    }
   ],
   "source": [
    "p2 = ( 1635*100000/len(new) - 606*100000/len(new) ) * 3140\n",
    "print p2"
   ]
  },
  {
   "cell_type": "code",
   "execution_count": 145,
   "metadata": {},
   "outputs": [
    {
     "ename": "IndentationError",
     "evalue": "unexpected indent (<ipython-input-145-1a49572b5a18>, line 2)",
     "output_type": "error",
     "traceback": [
      "\u001b[1;36m  File \u001b[1;32m\"<ipython-input-145-1a49572b5a18>\"\u001b[1;36m, line \u001b[1;32m2\u001b[0m\n\u001b[1;33m    (10000-np.sum(np.array([new[606], new[607],new[1635],new[1636]]))/2)/(10000-np.mean(np.array([new[165],new[365],new[565],new[760],new[965],new[1165],new[1565], new[1765],new[1965]]))) / ((1636-606)/200.0)\u001b[0m\n\u001b[1;37m    ^\u001b[0m\n\u001b[1;31mIndentationError\u001b[0m\u001b[1;31m:\u001b[0m unexpected indent\n"
     ]
    }
   ],
   "source": [
    "#radius of second\n",
    " (10000-np.sum(np.array([new[606], new[607],new[1635],new[1636]]))/2)/(10000-np.mean(np.array([new[165],new[365],new[565],new[760],new[965],new[1165],new[1565], new[1765],new[1965]]))) / ((1636-606)/200.0)"
   ]
  },
  {
   "cell_type": "code",
   "execution_count": 146,
   "metadata": {},
   "outputs": [
    {
     "name": "stdout",
     "output_type": "stream",
     "text": [
      "-57.4245927658\n"
     ]
    }
   ],
   "source": [
    "a = np.array([new[606], new[607],new[1635],new[1636]])\n",
    "b = (10000 - np.sum(a/2))\n",
    "\n",
    "c = np.array([new[165],new[365],new[565],new[760],new[965],new[1165],new[1565], new[1765],new[1965]])\n",
    "d = 10000 - np.mean(c)\n",
    "\n",
    "e = b/d / ((1636-600)/200.0) # depth\n",
    "print e"
   ]
  },
  {
   "cell_type": "code",
   "execution_count": 148,
   "metadata": {},
   "outputs": [
    {
     "name": "stdout",
     "output_type": "stream",
     "text": [
      "0.0757790160703\n"
     ]
    }
   ],
   "source": [
    "r2 = np.sqrt(-e/10000)\n",
    "print r2"
   ]
  },
  {
   "cell_type": "code",
   "execution_count": null,
   "metadata": {
    "collapsed": true
   },
   "outputs": [],
   "source": []
  }
 ],
 "metadata": {
  "kernelspec": {
   "display_name": "Python 2",
   "language": "python",
   "name": "python2"
  },
  "language_info": {
   "codemirror_mode": {
    "name": "ipython",
    "version": 2
   },
   "file_extension": ".py",
   "mimetype": "text/x-python",
   "name": "python",
   "nbconvert_exporter": "python",
   "pygments_lexer": "ipython2",
   "version": "2.7.14"
  }
 },
 "nbformat": 4,
 "nbformat_minor": 2
}
